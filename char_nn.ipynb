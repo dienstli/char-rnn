{
 "cells": [
  {
   "cell_type": "code",
   "execution_count": 4,
   "metadata": {},
   "outputs": [],
   "source": [
    "import numpy as np"
   ]
  },
  {
   "cell_type": "markdown",
   "metadata": {
    "collapsed": true
   },
   "source": [
    "### Data IO"
   ]
  },
  {
   "cell_type": "code",
   "execution_count": 1,
   "metadata": {},
   "outputs": [
    {
     "name": "stdout",
     "output_type": "stream",
     "text": [
      "data has 11 characters, 8 unique.\n"
     ]
    }
   ],
   "source": [
    "# should be simple plain text file\n",
    "data = open('input.txt', 'r').read()\n",
    "chars = list(set(data))\n",
    "data_size, vocab_size = len(data), len(chars)\n",
    "\n",
    "print('data has %d characters, %d unique.' % (data_size, vocab_size))\n",
    "char_to_idx = {ch: i for i, ch in enumerate(chars)}\n",
    "idx_to_char = {i: ch for i, ch in enumerate(chars)}"
   ]
  },
  {
   "cell_type": "heading",
   "metadata": {},
   "level": 3,
   "source": [
    "Hyperparameters"
   ]
  },
  {
   "cell_type": "code",
   "execution_count": 2,
   "metadata": {},
   "outputs": [],
   "source": [
    "# size of hidden layer of neurons\n",
    "hidden_size = 100\n",
    "# number of steps to unroll the RNN for\n",
    "seq_length = 25\n",
    "learning_rate = 1e-1"
   ]
  },
  {
   "cell_type": "heading",
   "metadata": {},
   "level": 3,
   "source": [
    "Model Parameters"
   ]
  },
  {
   "cell_type": "code",
   "execution_count": 5,
   "metadata": {},
   "outputs": [],
   "source": [
    "weights_penalization = 0.01\n",
    "\n",
    "# input to hidden\n",
    "w_xh = np.random.randn(hidden_size, vocab_size) * weights_penalization \n",
    "# hidden to hidden\n",
    "w_hh = np.random.randn(hidden_size, hidden_size) * weights_penalization\n",
    "# hidden to output\n",
    "w_hy = np.random.randn(vocab_size, hidden_size) * weights_penalization\n",
    "# hidden bias\n",
    "b_h = np.zeros((hidden_size, 1))\n",
    "# output bias\n",
    "b_y = np.zeros((vocab_size, 1))"
   ]
  },
  {
   "cell_type": "heading",
   "metadata": {},
   "level": 3,
   "source": [
    "Loss F(x)"
   ]
  },
  {
   "cell_type": "code",
   "execution_count": 6,
   "metadata": {},
   "outputs": [],
   "source": [
    "def loss(inputs, targets, h_prev):\n",
    "    \"\"\"\n",
    "    inputs,targets are both list of integers.\n",
    "    h_prev is Hx1 array of initial hidden state\n",
    "    returns the loss, gradients on model parameters, and last hidden state\n",
    "    :param inputs: \n",
    "    :param targets: \n",
    "    :param h_prev: \n",
    "    :return: \n",
    "    \"\"\"\n",
    "    xs, hs, ys, ps = {}, {}, {}, {}\n",
    "    hs[-1] = np.copy(h_prev)\n",
    "    loss = 0\n",
    "  \n",
    "    # forward pass\n",
    "    for t in range(len(inputs)):\n",
    "        # encode in 1-of-k representation\n",
    "        xs[t] = np.zeros((vocab_size,1)) \n",
    "        xs[t][inputs[t]] = 1\n",
    "        # hidden state\n",
    "        hs[t] = np.tanh(np.dot(w_xh, xs[t]) + np.dot(w_hh, hs[t-1]) + bh)\n",
    "        # unnormalized log probabilities for next chars\n",
    "        ys[t] = np.dot(w_hy, hs[t]) + by\n",
    "        # probabilities for next chars\n",
    "        ps[t] = np.exp(ys[t]) / np.sum(np.exp(ys[t]))\n",
    "        # softmax (cross-entropy loss)\n",
    "        loss += -np.log(ps[t][targets[t], 0])\n",
    "        \n",
    "    # backward pass: compute gradients going backwards\n",
    "    d_w_xh, d_w_hh, d_w_hy = np.zeros_like(w_xh), np.zeros_like(w_hh), np.zeros_like(w_hy)\n",
    "    d_bh, d_by = np.zeros_like(bh), np.zeros_like(by)\n",
    "    \n",
    "    dhnext = np.zeros_like(hs[0])\n",
    "    for t in reversed(range(len(inputs))):\n",
    "        dy = np.copy(ps[t])\n",
    "        dy[targets[t]] -= 1 # backprop into y. see http://cs231n.github.io/neural-networks-case-study/#grad if confused here\n",
    "        d_w_hy += np.dot(dy, hs[t].T)\n",
    "        d_by += dy\n",
    "        dh = np.dot(w_hy.T, dy) + dhnext # backprop into h\n",
    "        d_hraw = (1 - hs[t] * hs[t]) * dh # backprop through tanh nonlinearity\n",
    "        d_bh += d_hraw\n",
    "        d_w_xh += np.dot(d_hraw, xs[t].T)\n",
    "        d_w_hh += np.dot(d_hraw, hs[t-1].T)\n",
    "        dhnext = np.dot(w_hh.T, dhraw)\n",
    "        \n",
    "    for dparam in [dWxh, dWhh, dWhy, dbh, dby]:\n",
    "        np.clip(dparam, -5, 5, out=dparam) # clip to mitigate exploding gradients\n",
    "    \n",
    "    return loss, dWxh, dWhh, dWhy, dbh, dby, hs[len(inputs)-1]"
   ]
  },
  {
   "cell_type": "code",
   "execution_count": null,
   "metadata": {},
   "outputs": [],
   "source": [
    "def sample(h, seed_ix, n):\n",
    "    \"\"\"\n",
    "    sample a sequence of integers from the model \n",
    "    h is memory state, seed_ix is seed letter for first time step\n",
    "    :param h: \n",
    "    :param seed_ix: \n",
    "    :param n: \n",
    "    :return: \n",
    "    \"\"\"\n",
    "    x = np.zeros((vocab_size, 1))\n",
    "    x[seed_ix] = 1\n",
    "    ixes = []\n",
    "    for t in range(n):\n",
    "        h = np.tanh(np.dot(Wxh, x) + np.dot(Whh, h) + bh)\n",
    "        y = np.dot(Why, h) + by\n",
    "        p = np.exp(y) / np.sum(np.exp(y))\n",
    "        ix = np.random.choice(range(vocab_size), p=p.ravel())\n",
    "        x = np.zeros((vocab_size, 1))\n",
    "        x[ix] = 1\n",
    "        ixes.append(ix)\n",
    "    \n",
    "    return ixes"
   ]
  }
 ],
 "metadata": {
  "kernelspec": {
   "display_name": "Python 2",
   "language": "python",
   "name": "python2"
  },
  "language_info": {
   "codemirror_mode": {
    "name": "ipython",
    "version": 2
   },
   "file_extension": ".py",
   "mimetype": "text/x-python",
   "name": "python",
   "nbconvert_exporter": "python",
   "pygments_lexer": "ipython2",
   "version": "2.7.6"
  }
 },
 "nbformat": 4,
 "nbformat_minor": 0
}
